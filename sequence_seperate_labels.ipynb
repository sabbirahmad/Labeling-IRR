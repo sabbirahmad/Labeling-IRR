{
 "cells": [
  {
   "cell_type": "code",
   "execution_count": 3,
   "metadata": {},
   "outputs": [],
   "source": [
    "import os\n",
    "import json"
   ]
  },
  {
   "cell_type": "code",
   "execution_count": 4,
   "metadata": {},
   "outputs": [],
   "source": [
    "def get_name_and_extension(file_name):\n",
    "    \"\"\"\n",
    "    get name and extension of a file_name\n",
    "    :param file_name:\n",
    "    :return:\n",
    "    \"\"\"\n",
    "    tokens = file_name.split('.')\n",
    "    return {'name': '.'.join(tokens[0:-1]), 'ext': tokens[-1]}"
   ]
  },
  {
   "cell_type": "code",
   "execution_count": 34,
   "metadata": {},
   "outputs": [],
   "source": [
    "def convert_to_dict(data_file):\n",
    "    dict_data = \"[\"\n",
    "    while True:\n",
    "        line = data_file.readline()\n",
    "\n",
    "        if dict_data != '[' and line!= \"\":\n",
    "            dict_data += ','\n",
    "\n",
    "        if line != \"\":\n",
    "            dict_data += line\n",
    "        else:\n",
    "            break\n",
    "\n",
    "    dict_data += ']'\n",
    "\n",
    "    # print(dict_data)\n",
    "\n",
    "    return dict_data"
   ]
  },
  {
   "cell_type": "code",
   "execution_count": 35,
   "metadata": {},
   "outputs": [],
   "source": [
    "def process_file_labels(file):\n",
    "    diff_labels = {}\n",
    "    for label in file:\n",
    "        title = label['title']\n",
    "        label['match'] = label['match'].split('_')[0]\n",
    "        main_label = title.split('-')[0]\n",
    "        if main_label in diff_labels:\n",
    "            diff_labels[main_label].append(label)\n",
    "        else:\n",
    "            diff_labels[main_label] = [label]\n",
    "    \n",
    "    return diff_labels"
   ]
  },
  {
   "cell_type": "code",
   "execution_count": 28,
   "metadata": {},
   "outputs": [],
   "source": [
    "def process_file_same_labels(file):\n",
    "    diff_labels = {'all': []}\n",
    "    for label in file:\n",
    "        title = label['title']\n",
    "        label['match'] = label['match'].split('_')[0]\n",
    "        label['title'] = title.split('-')[0]\n",
    "        diff_labels['all'].append(label)\n",
    "    \n",
    "    return diff_labels"
   ]
  },
  {
   "cell_type": "code",
   "execution_count": 36,
   "metadata": {},
   "outputs": [],
   "source": [
    "def generate_separate_label_files(original_folder, redone_folder):\n",
    "    for subdir, dirs, files in os.walk(redone_folder):\n",
    "        for filename in files:\n",
    "            name_extension = get_name_and_extension(filename)\n",
    "            name = name_extension['name']\n",
    "            ext = name_extension['ext'].lower()\n",
    "\n",
    "            if ext == 'json':\n",
    "                with open(redone_folder+filename, 'r') as redone_file:\n",
    "                    dict_data = convert_to_dict(redone_file)\n",
    "                    redone_label = json.loads(dict_data)\n",
    "                    redone_parsed_label = process_file_labels(redone_label)\n",
    "#                     redone_parsed_label = process_file_same_labels(redone_label)\n",
    "    \n",
    "    for subdir, dirs, files in os.walk(original_folder):\n",
    "        for filename in files:\n",
    "            name_extension = get_name_and_extension(filename)\n",
    "            name = name_extension['name']\n",
    "            ext = name_extension['ext'].lower()\n",
    "\n",
    "            if ext == 'json':\n",
    "                with open(original_folder+filename, 'r') as original_file:\n",
    "                    dict_data = convert_to_dict(original_file)               \n",
    "                    original_label = json.loads(dict_data)\n",
    "                    original_parsed_label = process_file_labels(original_label)\n",
    "#                     original_parsed_label = process_file_same_labels(original_label)\n",
    "                \n",
    "    \n",
    "    for key in redone_parsed_label:\n",
    "        red_file = []\n",
    "        for label in redone_parsed_label[key]:\n",
    "            red_file.append(label)\n",
    "            \n",
    "        with open(redone_folder+key+'.json', 'w') as outfile:\n",
    "            json.dump(red_file, outfile)\n",
    "        \n",
    "        \n",
    "    for key in original_parsed_label:\n",
    "        org_file = []\n",
    "        for label in original_parsed_label[key]:\n",
    "            org_file.append(label)\n",
    "            \n",
    "        with open(original_folder+key+'.json', 'w') as outfile:\n",
    "            json.dump(org_file, outfile)\n",
    "    "
   ]
  },
  {
   "cell_type": "code",
   "execution_count": 37,
   "metadata": {},
   "outputs": [],
   "source": [
    "org = 'data/dota2Seq/raw/original/'\n",
    "red = 'data/dota2Seq/raw/redone/'\n",
    "generate_separate_label_files(org, red)"
   ]
  },
  {
   "cell_type": "code",
   "execution_count": null,
   "metadata": {},
   "outputs": [],
   "source": []
  },
  {
   "cell_type": "code",
   "execution_count": null,
   "metadata": {},
   "outputs": [],
   "source": []
  }
 ],
 "metadata": {
  "kernelspec": {
   "display_name": "Python 3",
   "language": "python",
   "name": "python3"
  },
  "language_info": {
   "codemirror_mode": {
    "name": "ipython",
    "version": 3
   },
   "file_extension": ".py",
   "mimetype": "text/x-python",
   "name": "python",
   "nbconvert_exporter": "python",
   "pygments_lexer": "ipython3",
   "version": "3.6.8"
  }
 },
 "nbformat": 4,
 "nbformat_minor": 4
}
